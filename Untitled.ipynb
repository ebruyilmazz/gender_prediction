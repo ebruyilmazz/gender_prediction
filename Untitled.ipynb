{
 "cells": [
  {
   "cell_type": "code",
   "execution_count": 27,
   "id": "b90c5489",
   "metadata": {},
   "outputs": [],
   "source": [
    "import pandas as pd\n",
    "from sklearn.model_selection import train_test_split\n",
    "from sklearn.preprocessing import LabelEncoder\n",
    "from keras.preprocessing.image import ImageDataGenerator\n",
    "from keras.models import Sequential\n",
    "from keras.layers import Conv2D, MaxPooling2D, Flatten, Dense, Dropout\n",
    "from keras.utils import to_categorical\n",
    "from keras.optimizers import Adam"
   ]
  },
  {
   "cell_type": "markdown",
   "id": "afeddbf9",
   "metadata": {},
   "source": [
    "## Veri Seti Boyutlandırma ##"
   ]
  },
  {
   "cell_type": "code",
   "execution_count": 28,
   "id": "b394c223",
   "metadata": {},
   "outputs": [],
   "source": [
    "from PIL import Image\n",
    "import os\n",
    "\n",
    "def resize_images(input_folder, output_folder, target_size):\n",
    "    # Hedef boyut\n",
    "    target_width, target_height = target_size\n",
    "\n",
    "\n",
    "    # Giriş klasöründeki tüm resim dosyalarını al\n",
    "    image_files = [f for f in os.listdir(input_folder) if f.endswith(('.jpg', '.jpeg', '.png'))]\n",
    "\n",
    "    for image_file in image_files:\n",
    "        # Resimi aç\n",
    "        image_path = os.path.join(input_folder, image_file)\n",
    "        img = Image.open(image_path)\n",
    "\n",
    "        # Resmi hedef boyuta yeniden boyutlandır\n",
    "        img_resized = img.resize((target_width, target_height))\n",
    "\n",
    "        # Yeniden boyutlandırılmış resmi kaydet\n",
    "        output_path = os.path.join(output_folder, image_file)\n",
    "        img_resized.save(output_path)\n",
    "\n",
    "input_folder = \"DataSet/\"\n",
    "output_folder = \"veriSeti/\"\n",
    "target_size = (64,64)\n",
    "\n",
    "resize_images(input_folder, output_folder, target_size)"
   ]
  },
  {
   "cell_type": "markdown",
   "id": "e88c7280",
   "metadata": {},
   "source": [
    "## Veri Setinin Yüklenmesi ve İşlenmesi ##"
   ]
  },
  {
   "cell_type": "code",
   "execution_count": 29,
   "id": "f80a602d",
   "metadata": {},
   "outputs": [],
   "source": [
    "df = pd.read_csv('hands.csv')\n"
   ]
  },
  {
   "cell_type": "code",
   "execution_count": 30,
   "id": "7495ac35",
   "metadata": {},
   "outputs": [],
   "source": [
    "df = df[['imageName', 'gender']]\n"
   ]
  },
  {
   "cell_type": "code",
   "execution_count": 31,
   "id": "f2781704",
   "metadata": {
    "collapsed": true
   },
   "outputs": [
    {
     "data": {
      "text/html": [
       "<div>\n",
       "<style scoped>\n",
       "    .dataframe tbody tr th:only-of-type {\n",
       "        vertical-align: middle;\n",
       "    }\n",
       "\n",
       "    .dataframe tbody tr th {\n",
       "        vertical-align: top;\n",
       "    }\n",
       "\n",
       "    .dataframe thead th {\n",
       "        text-align: right;\n",
       "    }\n",
       "</style>\n",
       "<table border=\"1\" class=\"dataframe\">\n",
       "  <thead>\n",
       "    <tr style=\"text-align: right;\">\n",
       "      <th></th>\n",
       "      <th>imageName</th>\n",
       "      <th>gender</th>\n",
       "    </tr>\n",
       "  </thead>\n",
       "  <tbody>\n",
       "    <tr>\n",
       "      <th>0</th>\n",
       "      <td>100kadın.jpg</td>\n",
       "      <td>female</td>\n",
       "    </tr>\n",
       "    <tr>\n",
       "      <th>1</th>\n",
       "      <td>101kadın.jpg</td>\n",
       "      <td>female</td>\n",
       "    </tr>\n",
       "    <tr>\n",
       "      <th>2</th>\n",
       "      <td>102kadın.jpg</td>\n",
       "      <td>female</td>\n",
       "    </tr>\n",
       "    <tr>\n",
       "      <th>3</th>\n",
       "      <td>103kadın.jpg</td>\n",
       "      <td>female</td>\n",
       "    </tr>\n",
       "    <tr>\n",
       "      <th>4</th>\n",
       "      <td>104kadın.jpg</td>\n",
       "      <td>female</td>\n",
       "    </tr>\n",
       "    <tr>\n",
       "      <th>...</th>\n",
       "      <td>...</td>\n",
       "      <td>...</td>\n",
       "    </tr>\n",
       "    <tr>\n",
       "      <th>209</th>\n",
       "      <td>97kadın.jpg</td>\n",
       "      <td>female</td>\n",
       "    </tr>\n",
       "    <tr>\n",
       "      <th>210</th>\n",
       "      <td>98kadın.jpg</td>\n",
       "      <td>female</td>\n",
       "    </tr>\n",
       "    <tr>\n",
       "      <th>211</th>\n",
       "      <td>99kadın.jpg</td>\n",
       "      <td>female</td>\n",
       "    </tr>\n",
       "    <tr>\n",
       "      <th>212</th>\n",
       "      <td>9erkekjpg.jpg</td>\n",
       "      <td>male</td>\n",
       "    </tr>\n",
       "    <tr>\n",
       "      <th>213</th>\n",
       "      <td>9kadın.jpg</td>\n",
       "      <td>female</td>\n",
       "    </tr>\n",
       "  </tbody>\n",
       "</table>\n",
       "<p>214 rows × 2 columns</p>\n",
       "</div>"
      ],
      "text/plain": [
       "         imageName  gender\n",
       "0     100kadın.jpg  female\n",
       "1     101kadın.jpg  female\n",
       "2     102kadın.jpg  female\n",
       "3     103kadın.jpg  female\n",
       "4     104kadın.jpg  female\n",
       "..             ...     ...\n",
       "209    97kadın.jpg  female\n",
       "210    98kadın.jpg  female\n",
       "211    99kadın.jpg  female\n",
       "212  9erkekjpg.jpg    male\n",
       "213     9kadın.jpg  female\n",
       "\n",
       "[214 rows x 2 columns]"
      ]
     },
     "execution_count": 31,
     "metadata": {},
     "output_type": "execute_result"
    }
   ],
   "source": [
    "df"
   ]
  },
  {
   "cell_type": "code",
   "execution_count": 32,
   "id": "499273ca",
   "metadata": {},
   "outputs": [],
   "source": [
    "label_encoder = LabelEncoder() # verileri sayısal forma çevirmek için\n",
    "df['gender'] = label_encoder.fit_transform(df['gender'])"
   ]
  },
  {
   "cell_type": "code",
   "execution_count": 33,
   "id": "0a9c1e16",
   "metadata": {},
   "outputs": [],
   "source": [
    "df['gender'] = df['gender'].astype(str)"
   ]
  },
  {
   "cell_type": "code",
   "execution_count": 34,
   "id": "23378659",
   "metadata": {},
   "outputs": [
    {
     "data": {
      "text/html": [
       "<div>\n",
       "<style scoped>\n",
       "    .dataframe tbody tr th:only-of-type {\n",
       "        vertical-align: middle;\n",
       "    }\n",
       "\n",
       "    .dataframe tbody tr th {\n",
       "        vertical-align: top;\n",
       "    }\n",
       "\n",
       "    .dataframe thead th {\n",
       "        text-align: right;\n",
       "    }\n",
       "</style>\n",
       "<table border=\"1\" class=\"dataframe\">\n",
       "  <thead>\n",
       "    <tr style=\"text-align: right;\">\n",
       "      <th></th>\n",
       "      <th>imageName</th>\n",
       "      <th>gender</th>\n",
       "    </tr>\n",
       "  </thead>\n",
       "  <tbody>\n",
       "    <tr>\n",
       "      <th>0</th>\n",
       "      <td>100kadın.jpg</td>\n",
       "      <td>0</td>\n",
       "    </tr>\n",
       "    <tr>\n",
       "      <th>1</th>\n",
       "      <td>101kadın.jpg</td>\n",
       "      <td>0</td>\n",
       "    </tr>\n",
       "    <tr>\n",
       "      <th>2</th>\n",
       "      <td>102kadın.jpg</td>\n",
       "      <td>0</td>\n",
       "    </tr>\n",
       "    <tr>\n",
       "      <th>3</th>\n",
       "      <td>103kadın.jpg</td>\n",
       "      <td>0</td>\n",
       "    </tr>\n",
       "    <tr>\n",
       "      <th>4</th>\n",
       "      <td>104kadın.jpg</td>\n",
       "      <td>0</td>\n",
       "    </tr>\n",
       "    <tr>\n",
       "      <th>...</th>\n",
       "      <td>...</td>\n",
       "      <td>...</td>\n",
       "    </tr>\n",
       "    <tr>\n",
       "      <th>209</th>\n",
       "      <td>97kadın.jpg</td>\n",
       "      <td>0</td>\n",
       "    </tr>\n",
       "    <tr>\n",
       "      <th>210</th>\n",
       "      <td>98kadın.jpg</td>\n",
       "      <td>0</td>\n",
       "    </tr>\n",
       "    <tr>\n",
       "      <th>211</th>\n",
       "      <td>99kadın.jpg</td>\n",
       "      <td>0</td>\n",
       "    </tr>\n",
       "    <tr>\n",
       "      <th>212</th>\n",
       "      <td>9erkekjpg.jpg</td>\n",
       "      <td>1</td>\n",
       "    </tr>\n",
       "    <tr>\n",
       "      <th>213</th>\n",
       "      <td>9kadın.jpg</td>\n",
       "      <td>0</td>\n",
       "    </tr>\n",
       "  </tbody>\n",
       "</table>\n",
       "<p>214 rows × 2 columns</p>\n",
       "</div>"
      ],
      "text/plain": [
       "         imageName gender\n",
       "0     100kadın.jpg      0\n",
       "1     101kadın.jpg      0\n",
       "2     102kadın.jpg      0\n",
       "3     103kadın.jpg      0\n",
       "4     104kadın.jpg      0\n",
       "..             ...    ...\n",
       "209    97kadın.jpg      0\n",
       "210    98kadın.jpg      0\n",
       "211    99kadın.jpg      0\n",
       "212  9erkekjpg.jpg      1\n",
       "213     9kadın.jpg      0\n",
       "\n",
       "[214 rows x 2 columns]"
      ]
     },
     "execution_count": 34,
     "metadata": {},
     "output_type": "execute_result"
    }
   ],
   "source": [
    "df"
   ]
  },
  {
   "cell_type": "markdown",
   "id": "abe15be0",
   "metadata": {},
   "source": [
    "## Veri Setini Eğitim ve Test Olarak Bölünmesi ##"
   ]
  },
  {
   "cell_type": "code",
   "execution_count": 35,
   "id": "a5f36c37",
   "metadata": {},
   "outputs": [],
   "source": [
    "train_df, test_df = train_test_split(df, test_size=0.2, random_state=42)"
   ]
  },
  {
   "cell_type": "markdown",
   "id": "9882f4e1",
   "metadata": {},
   "source": [
    "## Görüntü Artırma İşlemi ##"
   ]
  },
  {
   "cell_type": "code",
   "execution_count": 36,
   "id": "10c7f4fb",
   "metadata": {},
   "outputs": [],
   "source": [
    "train_datagen = ImageDataGenerator(rescale=1./255, shear_range=0.2, zoom_range=0.2, horizontal_flip=True)\n"
   ]
  },
  {
   "cell_type": "code",
   "execution_count": 37,
   "id": "9d3e30af",
   "metadata": {},
   "outputs": [],
   "source": [
    "test_datagen = ImageDataGenerator(rescale=1./255)"
   ]
  },
  {
   "cell_type": "code",
   "execution_count": 39,
   "id": "cb0f4476",
   "metadata": {},
   "outputs": [
    {
     "name": "stdout",
     "output_type": "stream",
     "text": [
      "Found 171 validated image filenames belonging to 2 classes.\n"
     ]
    }
   ],
   "source": [
    "train_generator = train_datagen.flow_from_dataframe(dataframe=train_df,\n",
    "                                                    directory='veriSeti',  # Veri setinin bulunduğu dizin\n",
    "                                                    x_col='imageName',\n",
    "                                                    y_col='gender',\n",
    "                                                    target_size=(64,64),  # Giriş görüntü boyutları\n",
    "                                                    batch_size=32,\n",
    "                                                    class_mode='binary')"
   ]
  },
  {
   "cell_type": "code",
   "execution_count": 40,
   "id": "e699c18f",
   "metadata": {},
   "outputs": [
    {
     "data": {
      "text/plain": [
       "<keras.src.preprocessing.image.DataFrameIterator at 0x271aef28c90>"
      ]
     },
     "execution_count": 40,
     "metadata": {},
     "output_type": "execute_result"
    }
   ],
   "source": [
    "train_generator"
   ]
  },
  {
   "cell_type": "code",
   "execution_count": 41,
   "id": "0f266e8c",
   "metadata": {},
   "outputs": [
    {
     "name": "stdout",
     "output_type": "stream",
     "text": [
      "Found 43 validated image filenames belonging to 2 classes.\n"
     ]
    }
   ],
   "source": [
    "test_generator = test_datagen.flow_from_dataframe(dataframe=test_df,\n",
    "                                                  directory='veriSeti',\n",
    "                                                  x_col='imageName',\n",
    "                                                  y_col='gender',\n",
    "                                                  target_size=(64,64),\n",
    "                                                  batch_size=32,\n",
    "                                                  class_mode='binary')"
   ]
  },
  {
   "cell_type": "code",
   "execution_count": 42,
   "id": "9b4b5911",
   "metadata": {},
   "outputs": [
    {
     "data": {
      "text/plain": [
       "<keras.src.preprocessing.image.DataFrameIterator at 0x271b25b09d0>"
      ]
     },
     "execution_count": 42,
     "metadata": {},
     "output_type": "execute_result"
    }
   ],
   "source": [
    "test_generator"
   ]
  },
  {
   "cell_type": "markdown",
   "id": "4bf30c2e",
   "metadata": {},
   "source": [
    "## Model Oluşturma ##"
   ]
  },
  {
   "cell_type": "code",
   "execution_count": 43,
   "id": "4b567f52",
   "metadata": {},
   "outputs": [],
   "source": [
    "model = Sequential() #Sıralı bir model oluşturur.\n",
    "model.add(Conv2D(32, (3, 3), input_shape=(64, 64, 3), activation='relu'))\n",
    "model.add(MaxPooling2D(pool_size=(2, 2)))\n",
    "model.add(Conv2D(64, (3, 3), activation='relu'))\n",
    "model.add(MaxPooling2D(pool_size=(2, 2)))\n",
    "model.add(Flatten())\n",
    "model.add(Dense(128, activation='relu'))\n",
    "model.add(Dropout(0.5))\n",
    "model.add(Dense(1, activation='sigmoid'))"
   ]
  },
  {
   "cell_type": "markdown",
   "id": "3a780f68",
   "metadata": {},
   "source": [
    "## Modeli Derle ##"
   ]
  },
  {
   "cell_type": "code",
   "execution_count": 44,
   "id": "8699b5ec",
   "metadata": {},
   "outputs": [],
   "source": [
    "model.compile(optimizer='adam', loss='binary_crossentropy', metrics=['accuracy'])"
   ]
  },
  {
   "cell_type": "code",
   "execution_count": 45,
   "id": "dc74465c",
   "metadata": {},
   "outputs": [
    {
     "name": "stdout",
     "output_type": "stream",
     "text": [
      "Model: \"sequential_1\"\n",
      "_________________________________________________________________\n",
      " Layer (type)                Output Shape              Param #   \n",
      "=================================================================\n",
      " conv2d_2 (Conv2D)           (None, 62, 62, 32)        896       \n",
      "                                                                 \n",
      " max_pooling2d_2 (MaxPoolin  (None, 31, 31, 32)        0         \n",
      " g2D)                                                            \n",
      "                                                                 \n",
      " conv2d_3 (Conv2D)           (None, 29, 29, 64)        18496     \n",
      "                                                                 \n",
      " max_pooling2d_3 (MaxPoolin  (None, 14, 14, 64)        0         \n",
      " g2D)                                                            \n",
      "                                                                 \n",
      " flatten_1 (Flatten)         (None, 12544)             0         \n",
      "                                                                 \n",
      " dense_2 (Dense)             (None, 128)               1605760   \n",
      "                                                                 \n",
      " dropout_1 (Dropout)         (None, 128)               0         \n",
      "                                                                 \n",
      " dense_3 (Dense)             (None, 1)                 129       \n",
      "                                                                 \n",
      "=================================================================\n",
      "Total params: 1625281 (6.20 MB)\n",
      "Trainable params: 1625281 (6.20 MB)\n",
      "Non-trainable params: 0 (0.00 Byte)\n",
      "_________________________________________________________________\n"
     ]
    }
   ],
   "source": [
    "model.summary()"
   ]
  },
  {
   "cell_type": "markdown",
   "id": "de7cb996",
   "metadata": {},
   "source": [
    "## Modelin Eğitilmesi ##"
   ]
  },
  {
   "cell_type": "code",
   "execution_count": 46,
   "id": "b8f11cc6",
   "metadata": {},
   "outputs": [
    {
     "name": "stdout",
     "output_type": "stream",
     "text": [
      "Epoch 1/10\n",
      "6/6 [==============================] - 7s 700ms/step - loss: 0.7208 - accuracy: 0.5380 - val_loss: 0.6695 - val_accuracy: 0.6512\n",
      "Epoch 2/10\n",
      "6/6 [==============================] - 1s 202ms/step - loss: 0.6574 - accuracy: 0.6257 - val_loss: 0.6495 - val_accuracy: 0.6047\n",
      "Epoch 3/10\n",
      "6/6 [==============================] - 2s 246ms/step - loss: 0.6215 - accuracy: 0.7485 - val_loss: 0.6230 - val_accuracy: 0.6512\n",
      "Epoch 4/10\n",
      "6/6 [==============================] - 1s 233ms/step - loss: 0.5993 - accuracy: 0.7135 - val_loss: 0.6168 - val_accuracy: 0.6279\n",
      "Epoch 5/10\n",
      "6/6 [==============================] - 1s 186ms/step - loss: 0.5494 - accuracy: 0.7368 - val_loss: 0.6022 - val_accuracy: 0.6977\n",
      "Epoch 6/10\n",
      "6/6 [==============================] - 1s 227ms/step - loss: 0.4903 - accuracy: 0.7368 - val_loss: 0.5538 - val_accuracy: 0.6279\n",
      "Epoch 7/10\n",
      "6/6 [==============================] - 1s 231ms/step - loss: 0.4838 - accuracy: 0.7485 - val_loss: 0.7103 - val_accuracy: 0.6512\n",
      "Epoch 8/10\n",
      "6/6 [==============================] - 1s 263ms/step - loss: 0.5282 - accuracy: 0.6725 - val_loss: 0.5345 - val_accuracy: 0.7209\n",
      "Epoch 9/10\n",
      "6/6 [==============================] - 1s 143ms/step - loss: 0.4872 - accuracy: 0.7602 - val_loss: 0.4883 - val_accuracy: 0.7442\n",
      "Epoch 10/10\n",
      "6/6 [==============================] - 1s 124ms/step - loss: 0.4602 - accuracy: 0.7485 - val_loss: 0.4676 - val_accuracy: 0.7209\n"
     ]
    },
    {
     "data": {
      "text/plain": [
       "<keras.src.callbacks.History at 0x271b256c690>"
      ]
     },
     "execution_count": 46,
     "metadata": {},
     "output_type": "execute_result"
    }
   ],
   "source": [
    "model.fit(train_generator, steps_per_epoch=len(train_generator), epochs=10, validation_data=test_generator, validation_steps=len(test_generator))\n"
   ]
  },
  {
   "cell_type": "markdown",
   "id": "f6fe6c73",
   "metadata": {},
   "source": [
    "## Modelin Kaydedilmesi ##"
   ]
  },
  {
   "cell_type": "code",
   "execution_count": 47,
   "id": "e14626b7",
   "metadata": {},
   "outputs": [
    {
     "name": "stderr",
     "output_type": "stream",
     "text": [
      "C:\\Users\\PC\\anaconda3\\Lib\\site-packages\\keras\\src\\engine\\training.py:3103: UserWarning: You are saving your model as an HDF5 file via `model.save()`. This file format is considered legacy. We recommend using instead the native Keras format, e.g. `model.save('my_model.keras')`.\n",
      "  saving_api.save_model(\n"
     ]
    }
   ],
   "source": [
    "model.save('gender_classification_model.h5')"
   ]
  },
  {
   "cell_type": "markdown",
   "id": "4443b324",
   "metadata": {},
   "source": [
    "## Modelin performansını test verileri üzerinde değerlendir ##"
   ]
  },
  {
   "cell_type": "code",
   "execution_count": 49,
   "id": "78b133a8",
   "metadata": {},
   "outputs": [
    {
     "name": "stdout",
     "output_type": "stream",
     "text": [
      "2/2 [==============================] - 0s 27ms/step - loss: 0.4676 - accuracy: 0.7209\n",
      "Test Verileri Üzerinde Doğruluk: 72.09%\n",
      "Test Verileri Üzerinde Kayıp: 0.46761828660964966\n"
     ]
    }
   ],
   "source": [
    "loss, accuracy = model.evaluate(test_generator, steps=len(test_generator))\n",
    "print(f'Test Verileri Üzerinde Doğruluk: {accuracy * 100:.2f}%')\n",
    "print(f'Test Verileri Üzerinde Kayıp: {loss}')"
   ]
  },
  {
   "cell_type": "code",
   "execution_count": 50,
   "id": "3cfa478f",
   "metadata": {},
   "outputs": [],
   "source": [
    "model.save('gender_classification_model.h5')"
   ]
  },
  {
   "cell_type": "markdown",
   "id": "e442a05f",
   "metadata": {},
   "source": [
    "## Kamera Entegrasyonu ##"
   ]
  },
  {
   "cell_type": "code",
   "execution_count": null,
   "id": "7ab1290b",
   "metadata": {},
   "outputs": [
    {
     "ename": "",
     "evalue": "",
     "output_type": "error",
     "traceback": [
      "\u001b[1;31mRunning cells with 'Python 3.12.0' requires the ipykernel package.\n",
      "\u001b[1;31mRun the following command to install 'ipykernel' into the Python environment. \n",
      "\u001b[1;31mCommand: 'c:/Users/PC/AppData/Local/Programs/Python/Python312/python.exe -m pip install ipykernel -U --user --force-reinstall'"
     ]
    }
   ],
   "source": [
    "import cv2\n",
    "import numpy as np\n",
    "from keras.models import load_model\n",
    "\n",
    "# Eğitilmiş modeli yükle\n",
    "model = load_model('gender_classification_model.h5')\n",
    "\n",
    "# Kamera başlatın\n",
    "cap = cv2.VideoCapture(0)  # 0, kamerayı ifade eder\n",
    "\n",
    "while True:\n",
    "    # Kameradan bir kare al\n",
    "    ret, frame = cap.read()\n",
    "\n",
    "    # Giriş görüntüsünü modele uygun formata getir\n",
    "    input_image = cv2.resize(frame, (64, 64))\n",
    "    input_image = np.expand_dims(input_image, axis=0)  # Batch boyutunu ekley\n",
    "\n",
    "    # Modelden tahmin alın\n",
    "    prediction = model.predict(input_image / 255.0)  # Giriş görüntüsünü 0-1 aralığına normalize et\n",
    "\n",
    "    # Tahmin sonucunu ekrana yazdır\n",
    "    gender = \"Erkek\" if prediction > 0.5 else \"Kadın\"\n",
    "    cv2.putText(frame, f'Cinsiyet: {gender}', (10, 30), cv2.FONT_HERSHEY_SIMPLEX, 1, (0, 255, 0), 2)\n",
    "\n",
    "    # Görüntüyü göster\n",
    "    cv2.imshow('Cinsiyet Sınıflandırma', frame)\n",
    "\n",
    "    # 'q' tuşuna basılana kadar devam et\n",
    "    if cv2.waitKey(1) & 0xFF == ord('q'):\n",
    "        break\n",
    "\n",
    "# Kamera ve pencereyi kapat\n",
    "cap.release()\n",
    "cv2.destroyAllWindows()\n"
   ]
  },
  {
   "cell_type": "code",
   "execution_count": null,
   "id": "89ae3256",
   "metadata": {},
   "outputs": [],
   "source": []
  }
 ],
 "metadata": {
  "kernelspec": {
   "display_name": "Python 3 (ipykernel)",
   "language": "python",
   "name": "python3"
  },
  "language_info": {
   "codemirror_mode": {
    "name": "ipython",
    "version": 3
   },
   "file_extension": ".py",
   "mimetype": "text/x-python",
   "name": "python",
   "nbconvert_exporter": "python",
   "pygments_lexer": "ipython3",
   "version": "3.12.0"
  }
 },
 "nbformat": 4,
 "nbformat_minor": 5
}
